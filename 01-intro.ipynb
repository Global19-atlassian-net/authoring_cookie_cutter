{
 "cells": [
  {
   "cell_type": "markdown",
   "metadata": {},
   "source": [
    "# Easy authoring with Jupyter  notebooks\n",
    "\n",
    "## Sagemath Notebook"
   ]
  },
  {
   "cell_type": "markdown",
   "metadata": {},
   "source": [
    "## Key concepts\n",
    "\n",
    "\n",
    "1.  Notebooks are stored in version control system (git) without output.\n",
    "1.  ``Makefile`` is ised to keep all prescriptions for bulting\n",
    "  pdf/html etc. \n",
    "1.  ``nbconvert`` is used to automatically execute and clean notebooks.\n",
    "1.  It will work with different Jupyter kenrels: we tested wit\n",
    "  against SageMath and Python.\n",
    "1.  Notebook will use ``PDF`` environment variable to distinguish\n",
    "  between interactive output or static one. In the `Python` process is\n",
    "  it easily accesible as ``os.environ['PDF']``. This can be\n",
    "  interesting when using interactive features like `@interact`\n",
    "  in Sage, which should be replaces by static figures in pdf format. \n",
    "1.  All cells with tags ``nbtest`` will be removed from pdf or html\n",
    "  output. This mechanism can be used for regression testing.\n",
    "1.  We will include `Dockerfile` which allows to run a given\n",
    "  repo on mybinder service.\n",
    "  "
   ]
  },
  {
   "cell_type": "code",
   "execution_count": null,
   "metadata": {},
   "outputs": [],
   "source": [
    "factor(12345678)"
   ]
  },
  {
   "cell_type": "markdown",
   "metadata": {},
   "source": [
    "## TESTS\n",
    "\n",
    "In building process all notebooks are, \n",
    "\n",
    " - stripped of output, \n",
    " - executed\n",
    " - stripped of cells with `nbtest` tags.\n",
    " \n",
    " \n",
    "Tags can be edites if following mode is activated:\n",
    "\n",
    " ![Fig. 4.1: Velocity.](images/tags_toggle.png)\n",
    " \n",
    " \n",
    "Stripped notebooks can be found in `notebooks4pdf` directory. \n",
    "\n",
    "\n",
    "It will raise exception in compilation but will be invisible in pdf/html output."
   ]
  },
  {
   "cell_type": "markdown",
   "metadata": {
    "tags": [
     "nbtest"
    ]
   },
   "source": [
    "## This cell will be removed after execution\n"
   ]
  },
  {
   "cell_type": "code",
   "execution_count": null,
   "metadata": {
    "tags": [
     "nbtest"
    ]
   },
   "outputs": [],
   "source": [
    "#  This cell will be removed after execution\n",
    "assert 1==1"
   ]
  },
  {
   "cell_type": "markdown",
   "metadata": {},
   "source": [
    "## Figure\n",
    "\n",
    "- one should use markdown for figures (not html tags):\n",
    "\n",
    "        ![Fig. 4.1: Velocity.](images/1.png)\n",
    "        \n",
    "        \n",
    "gives:\n",
    "\n",
    "![Fig. 4.1: Velocity.](images/1.png)"
   ]
  },
  {
   "cell_type": "markdown",
   "metadata": {},
   "source": [
    "## Passing environment variable to notebooks\n",
    "\n",
    "If compiled for pdf, in Makefile we set `PDF=1`. It can be read inside the notebook using following conditional:\n",
    "\n",
    "    if  'PDF' in os.environ.keys():\n",
    "\n",
    "There is an example below:"
   ]
  },
  {
   "cell_type": "code",
   "execution_count": null,
   "metadata": {},
   "outputs": [],
   "source": [
    "import os\n",
    "def fun(a):\n",
    "    plot(sin(a*x),(x,-4,4)).show(figsize=3)\n",
    "\n",
    "if  not 'PDF' in os.environ.keys():\n",
    "    @interact\n",
    "    def _(a = slider(1,2,0.1)):\n",
    "        fun(a)\n",
    "else:\n",
    "    for a in [1,1.5,2]:\n",
    "        fun(a)"
   ]
  },
  {
   "cell_type": "markdown",
   "metadata": {},
   "source": [
    "## References to equations\n",
    "\n",
    "\n",
    "We use $\\LaTeX$ labels in equations, they will be used in PDF output:\n",
    "\n",
    "\\begin{equation}\n",
    "\\label{eq1}\n",
    "2+2=5\n",
    "\\end{equation}\n",
    "\n",
    "in $\\ref{eq1}$ there is a problem!\n",
    "\n"
   ]
  },
  {
   "cell_type": "markdown",
   "metadata": {},
   "source": [
    "## Problem with SageMath `show`  and $\\LaTeX$\n",
    "\n",
    "There is an issue in Sagemath which prevent from corect display of formulas in nbconvert. We circumvent it by using showmath function whereaver applicable"
   ]
  },
  {
   "cell_type": "code",
   "execution_count": null,
   "metadata": {},
   "outputs": [],
   "source": [
    "expr = (x^2+1)/x^3*sin(x)+2^x"
   ]
  },
  {
   "cell_type": "code",
   "execution_count": null,
   "metadata": {},
   "outputs": [],
   "source": [
    "show(expr)"
   ]
  },
  {
   "cell_type": "code",
   "execution_count": null,
   "metadata": {},
   "outputs": [],
   "source": [
    "from IPython.display import Math\n",
    "def showmath(expr):\n",
    "    return Math(latex(expr))"
   ]
  },
  {
   "cell_type": "code",
   "execution_count": null,
   "metadata": {},
   "outputs": [],
   "source": [
    "showmath(expr)"
   ]
  },
  {
   "cell_type": "markdown",
   "metadata": {},
   "source": [
    "## Plotting\n",
    "\n",
    " - if using matplotlib, it is recommended to call `plt.show()`"
   ]
  },
  {
   "cell_type": "code",
   "execution_count": null,
   "metadata": {},
   "outputs": [],
   "source": [
    "%matplotlib inline \n",
    "import matplotlib.pyplot as plt\n",
    "plt.plot([2,3,4])\n",
    "plt.show()"
   ]
  },
  {
   "cell_type": "code",
   "execution_count": null,
   "metadata": {},
   "outputs": [],
   "source": [
    "circle((0,1),0.2)"
   ]
  },
  {
   "cell_type": "markdown",
   "metadata": {},
   "source": [
    "### Unsolved problem with long output \n"
   ]
  },
  {
   "cell_type": "code",
   "execution_count": null,
   "metadata": {},
   "outputs": [],
   "source": [
    "expr = expand((1+x)^21)"
   ]
  },
  {
   "cell_type": "code",
   "execution_count": null,
   "metadata": {},
   "outputs": [],
   "source": [
    "showmath( expr )"
   ]
  },
  {
   "cell_type": "markdown",
   "metadata": {},
   "source": [
    "One can force newpage in $\\LaTeX$ by:"
   ]
  },
  {
   "cell_type": "markdown",
   "metadata": {},
   "source": [
    "\\newpage"
   ]
  }
 ],
 "metadata": {
  "celltoolbar": "Tags",
  "kernelspec": {
   "display_name": "SageMath 8.6",
   "language": "",
   "name": "sagemath"
  },
  "language_info": {
   "codemirror_mode": {
    "name": "ipython",
    "version": 2
   },
   "file_extension": ".py",
   "mimetype": "text/x-python",
   "name": "python",
   "nbconvert_exporter": "python",
   "pygments_lexer": "ipython2",
   "version": "2.7.15"
  },
  "nbTranslate": {
   "displayLangs": [
    "en",
    "pl"
   ],
   "hotkey": "alt-t",
   "langInMainMenu": true,
   "sourceLang": "pl",
   "targetLang": "en",
   "useGoogleTranslate": true
  },
  "toc": {
   "base_numbering": 1,
   "nav_menu": {},
   "number_sections": true,
   "sideBar": true,
   "skip_h1_title": false,
   "title_cell": "Table of Contents",
   "title_sidebar": "Contents",
   "toc_cell": false,
   "toc_position": {},
   "toc_section_display": true,
   "toc_window_display": false
  }
 },
 "nbformat": 4,
 "nbformat_minor": 2
}
